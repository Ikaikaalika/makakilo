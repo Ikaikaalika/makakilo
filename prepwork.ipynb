{
 "cells": [
  {
   "cell_type": "code",
   "execution_count": 3,
   "metadata": {},
   "outputs": [
    {
     "ename": "NameError",
     "evalue": "name 'YOLO' is not defined",
     "output_type": "error",
     "traceback": [
      "\u001b[0;31m---------------------------------------------------------------------------\u001b[0m",
      "\u001b[0;31mNameError\u001b[0m                                 Traceback (most recent call last)",
      "Cell \u001b[0;32mIn[3], line 1\u001b[0m\n\u001b[0;32m----> 1\u001b[0m model \u001b[38;5;241m=\u001b[39m \u001b[43mYOLO\u001b[49m(\u001b[38;5;124m'\u001b[39m\u001b[38;5;124myolov8n.pt\u001b[39m\u001b[38;5;124m'\u001b[39m)\n",
      "\u001b[0;31mNameError\u001b[0m: name 'YOLO' is not defined"
     ]
    }
   ],
   "source": [
    "model = YOLO('yolov8n.pt')"
   ]
  },
  {
   "cell_type": "code",
   "execution_count": 2,
   "metadata": {},
   "outputs": [
    {
     "ename": "ModuleNotFoundError",
     "evalue": "No module named 'ultralytics'",
     "output_type": "error",
     "traceback": [
      "\u001b[0;31m---------------------------------------------------------------------------\u001b[0m",
      "\u001b[0;31mModuleNotFoundError\u001b[0m                       Traceback (most recent call last)",
      "Cell \u001b[0;32mIn[2], line 1\u001b[0m\n\u001b[0;32m----> 1\u001b[0m \u001b[38;5;28;01mfrom\u001b[39;00m\u001b[38;5;250m \u001b[39m\u001b[38;5;21;01multralytics\u001b[39;00m\u001b[38;5;250m \u001b[39m\u001b[38;5;28;01mimport\u001b[39;00m YOLO\n\u001b[1;32m      3\u001b[0m \u001b[38;5;66;03m# Check YOLO version\u001b[39;00m\n\u001b[1;32m      4\u001b[0m \u001b[38;5;28mprint\u001b[39m(YOLO\u001b[38;5;241m.\u001b[39mversion)\n",
      "\u001b[0;31mModuleNotFoundError\u001b[0m: No module named 'ultralytics'"
     ]
    }
   ],
   "source": [
    "\n",
    "\n",
    "from ultralytics import YOLO\n",
    "\n",
    "# Check YOLO version\n",
    "print(YOLO.version)\n"
   ]
  },
  {
   "cell_type": "code",
   "execution_count": null,
   "metadata": {},
   "outputs": [],
   "source": [
    "from ultralytics import YOLO\n",
    "\n",
    "# Download YOLOv8 Nano (lightweight model)\n",
    "model = YOLO('yolov8s.pt')  # Replace 'n' with 's', 'm', 'l', or 'x' as needed"
   ]
  },
  {
   "cell_type": "code",
   "execution_count": 4,
   "metadata": {},
   "outputs": [
    {
     "name": "stdout",
     "output_type": "stream",
     "text": [
      "Requirement already satisfied: deepface in /Users/tylergee/anaconda3/lib/python3.11/site-packages (0.0.93)\n",
      "Requirement already satisfied: requests>=2.27.1 in /Users/tylergee/anaconda3/lib/python3.11/site-packages (from deepface) (2.31.0)\n",
      "Requirement already satisfied: numpy>=1.14.0 in /Users/tylergee/anaconda3/lib/python3.11/site-packages (from deepface) (1.26.4)\n",
      "Requirement already satisfied: pandas>=0.23.4 in /Users/tylergee/anaconda3/lib/python3.11/site-packages (from deepface) (2.2.1)\n",
      "Requirement already satisfied: gdown>=3.10.1 in /Users/tylergee/anaconda3/lib/python3.11/site-packages (from deepface) (5.2.0)\n",
      "Requirement already satisfied: tqdm>=4.30.0 in /Users/tylergee/anaconda3/lib/python3.11/site-packages (from deepface) (4.66.2)\n",
      "Requirement already satisfied: Pillow>=5.2.0 in /Users/tylergee/anaconda3/lib/python3.11/site-packages (from deepface) (10.3.0)\n",
      "Requirement already satisfied: opencv-python>=4.5.5.64 in /Users/tylergee/anaconda3/lib/python3.11/site-packages (from deepface) (4.11.0.86)\n",
      "Requirement already satisfied: tensorflow>=1.9.0 in /Users/tylergee/anaconda3/lib/python3.11/site-packages (from deepface) (2.18.0)\n",
      "Requirement already satisfied: keras>=2.2.0 in /Users/tylergee/anaconda3/lib/python3.11/site-packages (from deepface) (3.8.0)\n",
      "Requirement already satisfied: Flask>=1.1.2 in /Users/tylergee/anaconda3/lib/python3.11/site-packages (from deepface) (2.2.5)\n",
      "Requirement already satisfied: flask-cors>=4.0.1 in /Users/tylergee/anaconda3/lib/python3.11/site-packages (from deepface) (5.0.0)\n",
      "Requirement already satisfied: mtcnn>=0.1.0 in /Users/tylergee/anaconda3/lib/python3.11/site-packages (from deepface) (1.0.0)\n",
      "Requirement already satisfied: retina-face>=0.0.1 in /Users/tylergee/anaconda3/lib/python3.11/site-packages (from deepface) (0.0.17)\n",
      "Requirement already satisfied: fire>=0.4.0 in /Users/tylergee/anaconda3/lib/python3.11/site-packages (from deepface) (0.7.0)\n",
      "Requirement already satisfied: gunicorn>=20.1.0 in /Users/tylergee/anaconda3/lib/python3.11/site-packages (from deepface) (23.0.0)\n",
      "Requirement already satisfied: termcolor in /Users/tylergee/anaconda3/lib/python3.11/site-packages (from fire>=0.4.0->deepface) (2.5.0)\n",
      "Requirement already satisfied: Werkzeug>=2.2.2 in /Users/tylergee/anaconda3/lib/python3.11/site-packages (from Flask>=1.1.2->deepface) (2.2.3)\n",
      "Requirement already satisfied: Jinja2>=3.0 in /Users/tylergee/anaconda3/lib/python3.11/site-packages (from Flask>=1.1.2->deepface) (3.1.3)\n",
      "Requirement already satisfied: itsdangerous>=2.0 in /Users/tylergee/anaconda3/lib/python3.11/site-packages (from Flask>=1.1.2->deepface) (2.0.1)\n",
      "Requirement already satisfied: click>=8.0 in /Users/tylergee/anaconda3/lib/python3.11/site-packages (from Flask>=1.1.2->deepface) (8.1.7)\n",
      "Requirement already satisfied: beautifulsoup4 in /Users/tylergee/anaconda3/lib/python3.11/site-packages (from gdown>=3.10.1->deepface) (4.12.2)\n",
      "Requirement already satisfied: filelock in /Users/tylergee/anaconda3/lib/python3.11/site-packages (from gdown>=3.10.1->deepface) (3.13.1)\n",
      "Requirement already satisfied: packaging in /Users/tylergee/anaconda3/lib/python3.11/site-packages (from gunicorn>=20.1.0->deepface) (23.2)\n",
      "Requirement already satisfied: absl-py in /Users/tylergee/anaconda3/lib/python3.11/site-packages (from keras>=2.2.0->deepface) (2.1.0)\n",
      "Requirement already satisfied: rich in /Users/tylergee/anaconda3/lib/python3.11/site-packages (from keras>=2.2.0->deepface) (13.3.5)\n",
      "Requirement already satisfied: namex in /Users/tylergee/anaconda3/lib/python3.11/site-packages (from keras>=2.2.0->deepface) (0.0.8)\n",
      "Requirement already satisfied: h5py in /Users/tylergee/anaconda3/lib/python3.11/site-packages (from keras>=2.2.0->deepface) (3.11.0)\n",
      "Requirement already satisfied: optree in /Users/tylergee/anaconda3/lib/python3.11/site-packages (from keras>=2.2.0->deepface) (0.14.0)\n",
      "Requirement already satisfied: ml-dtypes in /Users/tylergee/anaconda3/lib/python3.11/site-packages (from keras>=2.2.0->deepface) (0.4.1)\n",
      "Requirement already satisfied: joblib>=1.4.2 in /Users/tylergee/anaconda3/lib/python3.11/site-packages (from mtcnn>=0.1.0->deepface) (1.4.2)\n",
      "Requirement already satisfied: lz4>=4.3.3 in /Users/tylergee/anaconda3/lib/python3.11/site-packages (from mtcnn>=0.1.0->deepface) (4.3.3)\n",
      "Requirement already satisfied: python-dateutil>=2.8.2 in /Users/tylergee/anaconda3/lib/python3.11/site-packages (from pandas>=0.23.4->deepface) (2.8.2)\n",
      "Requirement already satisfied: pytz>=2020.1 in /Users/tylergee/anaconda3/lib/python3.11/site-packages (from pandas>=0.23.4->deepface) (2024.1)\n",
      "Requirement already satisfied: tzdata>=2022.7 in /Users/tylergee/anaconda3/lib/python3.11/site-packages (from pandas>=0.23.4->deepface) (2023.3)\n",
      "Requirement already satisfied: charset-normalizer<4,>=2 in /Users/tylergee/anaconda3/lib/python3.11/site-packages (from requests>=2.27.1->deepface) (2.0.4)\n",
      "Requirement already satisfied: idna<4,>=2.5 in /Users/tylergee/anaconda3/lib/python3.11/site-packages (from requests>=2.27.1->deepface) (3.7)\n",
      "Requirement already satisfied: urllib3<3,>=1.21.1 in /Users/tylergee/anaconda3/lib/python3.11/site-packages (from requests>=2.27.1->deepface) (2.1.0)\n",
      "Requirement already satisfied: certifi>=2017.4.17 in /Users/tylergee/anaconda3/lib/python3.11/site-packages (from requests>=2.27.1->deepface) (2024.2.2)\n",
      "Requirement already satisfied: astunparse>=1.6.0 in /Users/tylergee/anaconda3/lib/python3.11/site-packages (from tensorflow>=1.9.0->deepface) (1.6.3)\n",
      "Requirement already satisfied: flatbuffers>=24.3.25 in /Users/tylergee/anaconda3/lib/python3.11/site-packages (from tensorflow>=1.9.0->deepface) (24.12.23)\n",
      "Requirement already satisfied: gast!=0.5.0,!=0.5.1,!=0.5.2,>=0.2.1 in /Users/tylergee/anaconda3/lib/python3.11/site-packages (from tensorflow>=1.9.0->deepface) (0.6.0)\n",
      "Requirement already satisfied: google-pasta>=0.1.1 in /Users/tylergee/anaconda3/lib/python3.11/site-packages (from tensorflow>=1.9.0->deepface) (0.2.0)\n",
      "Requirement already satisfied: libclang>=13.0.0 in /Users/tylergee/anaconda3/lib/python3.11/site-packages (from tensorflow>=1.9.0->deepface) (18.1.1)\n",
      "Requirement already satisfied: opt-einsum>=2.3.2 in /Users/tylergee/anaconda3/lib/python3.11/site-packages (from tensorflow>=1.9.0->deepface) (3.4.0)\n",
      "Requirement already satisfied: protobuf!=4.21.0,!=4.21.1,!=4.21.2,!=4.21.3,!=4.21.4,!=4.21.5,<6.0.0dev,>=3.20.3 in /Users/tylergee/anaconda3/lib/python3.11/site-packages (from tensorflow>=1.9.0->deepface) (5.29.3)\n",
      "Requirement already satisfied: setuptools in /Users/tylergee/anaconda3/lib/python3.11/site-packages (from tensorflow>=1.9.0->deepface) (68.0.0)\n",
      "Requirement already satisfied: six>=1.12.0 in /Users/tylergee/anaconda3/lib/python3.11/site-packages (from tensorflow>=1.9.0->deepface) (1.16.0)\n",
      "Requirement already satisfied: typing-extensions>=3.6.6 in /Users/tylergee/anaconda3/lib/python3.11/site-packages (from tensorflow>=1.9.0->deepface) (4.11.0)\n",
      "Requirement already satisfied: wrapt>=1.11.0 in /Users/tylergee/anaconda3/lib/python3.11/site-packages (from tensorflow>=1.9.0->deepface) (1.14.1)\n",
      "Requirement already satisfied: grpcio<2.0,>=1.24.3 in /Users/tylergee/anaconda3/lib/python3.11/site-packages (from tensorflow>=1.9.0->deepface) (1.69.0)\n",
      "Requirement already satisfied: tensorboard<2.19,>=2.18 in /Users/tylergee/anaconda3/lib/python3.11/site-packages (from tensorflow>=1.9.0->deepface) (2.18.0)\n",
      "Requirement already satisfied: tensorflow-io-gcs-filesystem>=0.23.1 in /Users/tylergee/anaconda3/lib/python3.11/site-packages (from tensorflow>=1.9.0->deepface) (0.37.1)\n",
      "Requirement already satisfied: wheel<1.0,>=0.23.0 in /Users/tylergee/anaconda3/lib/python3.11/site-packages (from astunparse>=1.6.0->tensorflow>=1.9.0->deepface) (0.38.4)\n",
      "Requirement already satisfied: MarkupSafe>=2.0 in /Users/tylergee/anaconda3/lib/python3.11/site-packages (from Jinja2>=3.0->Flask>=1.1.2->deepface) (2.1.3)\n",
      "Requirement already satisfied: markdown>=2.6.8 in /Users/tylergee/anaconda3/lib/python3.11/site-packages (from tensorboard<2.19,>=2.18->tensorflow>=1.9.0->deepface) (3.4.1)\n",
      "Requirement already satisfied: tensorboard-data-server<0.8.0,>=0.7.0 in /Users/tylergee/anaconda3/lib/python3.11/site-packages (from tensorboard<2.19,>=2.18->tensorflow>=1.9.0->deepface) (0.7.2)\n",
      "Requirement already satisfied: soupsieve>1.2 in /Users/tylergee/anaconda3/lib/python3.11/site-packages (from beautifulsoup4->gdown>=3.10.1->deepface) (2.5)\n",
      "Requirement already satisfied: PySocks!=1.5.7,>=1.5.6 in /Users/tylergee/anaconda3/lib/python3.11/site-packages (from requests>=2.27.1->deepface) (1.7.1)\n",
      "Requirement already satisfied: markdown-it-py<3.0.0,>=2.2.0 in /Users/tylergee/anaconda3/lib/python3.11/site-packages (from rich->keras>=2.2.0->deepface) (2.2.0)\n",
      "Requirement already satisfied: pygments<3.0.0,>=2.13.0 in /Users/tylergee/anaconda3/lib/python3.11/site-packages (from rich->keras>=2.2.0->deepface) (2.15.1)\n",
      "Requirement already satisfied: mdurl~=0.1 in /Users/tylergee/anaconda3/lib/python3.11/site-packages (from markdown-it-py<3.0.0,>=2.2.0->rich->keras>=2.2.0->deepface) (0.1.0)\n"
     ]
    }
   ],
   "source": [
    "!pip install deepface"
   ]
  },
  {
   "cell_type": "code",
   "execution_count": null,
   "metadata": {},
   "outputs": [],
   "source": []
  }
 ],
 "metadata": {
  "kernelspec": {
   "display_name": "Python 3",
   "language": "python",
   "name": "python3"
  },
  "language_info": {
   "codemirror_mode": {
    "name": "ipython",
    "version": 3
   },
   "file_extension": ".py",
   "mimetype": "text/x-python",
   "name": "python",
   "nbconvert_exporter": "python",
   "pygments_lexer": "ipython3",
   "version": "3.12.0"
  }
 },
 "nbformat": 4,
 "nbformat_minor": 2
}
